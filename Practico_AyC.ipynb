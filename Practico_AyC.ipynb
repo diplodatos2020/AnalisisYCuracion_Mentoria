{
 "cells": [
  {
   "cell_type": "markdown",
   "metadata": {},
   "source": [
    "# **Practico Mentoria - Analisis Exploratorio y Curación de Datos**"
   ]
  },
  {
   "cell_type": "markdown",
   "metadata": {},
   "source": [
    "Se propone la elaboración de un informe o presentación, en formato estatico:\n",
    "* PDF\n",
    "* Markdowns\n",
    "* Google Docs\n",
    "\n",
    "Que responda a las cuestiones solicitadas en cada seccion de esta **Jupyter Notebook**.\n",
    "\n",
    "La comunicación debe estar apuntada a un público técnico pero sin conocimiento del tema particular, como por ejemplo, sus compañeros de clase.  \n",
    "Por lo cual debe estar redactado de forma consisa y comprensible."
   ]
  },
  {
   "cell_type": "code",
   "execution_count": null,
   "metadata": {},
   "outputs": [],
   "source": [
    "import numpy as np\n",
    "import pandas as pd\n",
    "import matplotlib.pyplot as plt\n",
    "import seaborn as sns\n",
    "import datetime"
   ]
  },
  {
   "cell_type": "code",
   "execution_count": null,
   "metadata": {},
   "outputs": [],
   "source": [
    "filename = \"dataset_inf_telec_ayc.csv\""
   ]
  },
  {
   "cell_type": "code",
   "execution_count": null,
   "metadata": {},
   "outputs": [],
   "source": [
    "df = pd.read_csv(filename)"
   ]
  },
  {
   "cell_type": "code",
   "execution_count": null,
   "metadata": {},
   "outputs": [],
   "source": [
    "df.shape"
   ]
  },
  {
   "cell_type": "code",
   "execution_count": null,
   "metadata": {},
   "outputs": [],
   "source": [
    "df.sample(5)"
   ]
  },
  {
   "cell_type": "markdown",
   "metadata": {},
   "source": [
    "---"
   ]
  },
  {
   "cell_type": "markdown",
   "metadata": {},
   "source": [
    "## **1. Importacion de los datos**\n",
    "\n",
    "Elija algun `PUNTO MEDICION` y calcule el rango que existe en la feature `FECHA HORA`.\n",
    "\n",
    "Por ejemplo, el `PUNTO MEDICION` **ABA - Abasto Cliente**"
   ]
  },
  {
   "cell_type": "code",
   "execution_count": null,
   "metadata": {},
   "outputs": [],
   "source": [
    "df_abasto = df[df['PUNTO MEDICION'] == \"ABA - Abasto Cliente\"]"
   ]
  },
  {
   "cell_type": "code",
   "execution_count": null,
   "metadata": {},
   "outputs": [],
   "source": [
    "df_abasto['FECHA HORA'].max() - df_abasto['FECHA HORA'].min()"
   ]
  },
  {
   "cell_type": "markdown",
   "metadata": {},
   "source": [
    "Indiquemos que la columna date es una fechas como indica la [documentación](https://pandas.pydata.org/pandas-docs/stable/user_guide/io.html#datetime-handling)."
   ]
  },
  {
   "cell_type": "code",
   "execution_count": null,
   "metadata": {},
   "outputs": [],
   "source": [
    "# TODO"
   ]
  },
  {
   "cell_type": "markdown",
   "metadata": {},
   "source": [
    "## **2. Etiquetas de variables/columnas: no usar caracteres especiales**\n",
    "\n",
    "Chequear que no haya caracteres fuera de a-Z, 0-9 y _ en los nombres de columnas del Dataframe."
   ]
  },
  {
   "cell_type": "code",
   "execution_count": null,
   "metadata": {},
   "outputs": [],
   "source": [
    "# TODO"
   ]
  },
  {
   "cell_type": "markdown",
   "metadata": {},
   "source": [
    "## **3. Agregar nuevas caracteristicas**\n",
    "\n",
    "Agregar al Dataframe dos nuevas columnas `INBOUND` y `OUTBOUND` que seran las columnas `INBOUND_BITS` y `OUTBOUND_BITS` llevadas a la unidad especificada en la columna `MEDIDA`."
   ]
  },
  {
   "cell_type": "code",
   "execution_count": null,
   "metadata": {},
   "outputs": [],
   "source": [
    "# TODO"
   ]
  },
  {
   "cell_type": "markdown",
   "metadata": {},
   "source": [
    "## **4. Tratar valores faltantes**\n",
    "\n",
    "Veamos cuantos valores nulos tenemos:"
   ]
  },
  {
   "cell_type": "code",
   "execution_count": null,
   "metadata": {},
   "outputs": [],
   "source": [
    "df_missing_values_count = df.isnull().sum()\n",
    "\n",
    "df_missing_values_count[df_missing_values_count > 0]"
   ]
  },
  {
   "cell_type": "markdown",
   "metadata": {},
   "source": [
    "Algunas tecnicas para tratar los missing values:\n",
    "\n",
    "**Eliminar** muestras o variables que tienen datos faltantes.\n",
    "**Imputar** los valores perdidos, es decir, sustituirlos por estimaciones por ejemplo la media, la moda ó usando KNN.\n",
    "\n",
    "A) Analizar si es conveniente **Eliminar** las muestras o variables con datos faltantes del Dataframe.  \n",
    "B) Aplicar la **Imputacion** usando la media o moda sobre las columnas con missing values del Dataframe.\n",
    "\n",
    "**Hint**:\n",
    "* Para la imputacion usando la media, moda ver el siguiente link:  \n",
    "  https://pandas.pydata.org/pandas-docs/stable/user_guide/missing_data.html"
   ]
  },
  {
   "cell_type": "markdown",
   "metadata": {},
   "source": [
    "### ¿Eliminar los missing values? Justificar"
   ]
  },
  {
   "cell_type": "code",
   "execution_count": null,
   "metadata": {},
   "outputs": [],
   "source": [
    "# TODO"
   ]
  },
  {
   "cell_type": "markdown",
   "metadata": {},
   "source": [
    "### Imputacion usando Media y Moda"
   ]
  },
  {
   "cell_type": "code",
   "execution_count": null,
   "metadata": {},
   "outputs": [],
   "source": [
    "# TODO"
   ]
  },
  {
   "cell_type": "markdown",
   "metadata": {},
   "source": [
    "## **6. Codificar variables**\n",
    "\n",
    "> Las variables categóricas deben ser etiquetadas como variables numéricas, no como cadenas.\n",
    "\n",
    "Codificar la variable `PUNTO MEDICION` del Dataframe."
   ]
  },
  {
   "cell_type": "code",
   "execution_count": null,
   "metadata": {},
   "outputs": [],
   "source": [
    "# TODO"
   ]
  },
  {
   "cell_type": "markdown",
   "metadata": {},
   "source": [
    "More about preprocessing in:\n",
    "* https://scikit-learn.org/stable/modules/classes.html#module-sklearn.preprocessing"
   ]
  },
  {
   "cell_type": "code",
   "execution_count": null,
   "metadata": {},
   "outputs": [],
   "source": []
  }
 ],
 "metadata": {
  "kernelspec": {
   "display_name": "Python 3",
   "language": "python",
   "name": "python3"
  },
  "language_info": {
   "codemirror_mode": {
    "name": "ipython",
    "version": 3
   },
   "file_extension": ".py",
   "mimetype": "text/x-python",
   "name": "python",
   "nbconvert_exporter": "python",
   "pygments_lexer": "ipython3",
   "version": "3.6.10"
  }
 },
 "nbformat": 4,
 "nbformat_minor": 4
}
